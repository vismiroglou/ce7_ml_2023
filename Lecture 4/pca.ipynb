{
 "cells": [
  {
   "cell_type": "code",
   "execution_count": 18,
   "metadata": {},
   "outputs": [],
   "source": [
    "from sklearn.decomposition import PCA\n",
    "from sklearn.discriminant_analysis import LinearDiscriminantAnalysis\n",
    "import numpy as np"
   ]
  },
  {
   "cell_type": "markdown",
   "metadata": {},
   "source": [
    "From the 10-class database, choose three classes (5, 6 and 8) and then reduce dimension to 2"
   ]
  },
  {
   "cell_type": "code",
   "execution_count": 19,
   "metadata": {},
   "outputs": [],
   "source": [
    "train5 = np.loadtxt(\"Data/train5.txt\")/255 # /255 for normalization\n",
    "train6 = np.loadtxt(\"Data/train6.txt\")/255\n",
    "train8 = np.loadtxt(\"Data/train8.txt\")/255\n",
    "\n",
    "# Define targets \n",
    "train5_target = 5*np.ones(len(train5))\n",
    "train6_target = 6*np.ones(len(train6))\n",
    "train8_target = 8*np.ones(len(train8))\n",
    "# Combine data\n",
    "train_data = np.concatenate([train5, train6, train8])\n",
    "train_targets = np.concatenate([train5_target, train6_target, train8_target])"
   ]
  },
  {
   "cell_type": "code",
   "execution_count": 20,
   "metadata": {},
   "outputs": [],
   "source": [
    "test5 = np.loadtxt(\"Data/test5.txt\")/255\n",
    "test6 = np.loadtxt(\"Data/test6.txt\")/255\n",
    "test8 = np.loadtxt(\"Data/test8.txt\")/255\n",
    "\n",
    "# Define targets \n",
    "test5_target = 5*np.ones(len(test5))\n",
    "test6_target = 6*np.ones(len(test6))\n",
    "test8_target = 8*np.ones(len(test8))\n",
    "\n",
    "# Combine\n",
    "test_data = np.concatenate([test5, test6, test8])\n",
    "test_targets = np.concatenate([test5_target, test6_target, test8_target])\n",
    "\n",
    "# Class names\n",
    "classes = np.array([5,6,8])"
   ]
  },
  {
   "cell_type": "code",
   "execution_count": 22,
   "metadata": {},
   "outputs": [
    {
     "name": "stdout",
     "output_type": "stream",
     "text": [
      "(17190, 784)\n"
     ]
    }
   ],
   "source": [
    "pca = PCA(n_components = 2)\n",
    "pca.fit(train_data)\n",
    "trn2d_pca = pca.transform(train_data)"
   ]
  },
  {
   "cell_type": "code",
   "execution_count": 23,
   "metadata": {},
   "outputs": [],
   "source": [
    "lda = LinearDiscriminantAnalysis(n_components = 2)\n",
    "lda.fit(train_data, train_targets)\n",
    "trn2d_lda = lda.transform(train_data)"
   ]
  },
  {
   "cell_type": "markdown",
   "metadata": {},
   "source": [
    "Perform 3-class classification based on the generated 2-dimensional data"
   ]
  },
  {
   "cell_type": "code",
   "execution_count": 29,
   "metadata": {},
   "outputs": [
    {
     "name": "stdout",
     "output_type": "stream",
     "text": [
      "[[5.63247272e+00 1.21007201e-11]\n",
      " [1.21007201e-11 4.61033260e+00]]\n"
     ]
    }
   ],
   "source": [
    "mean5 = np.mean(trn2d_pca[:len(train5), :], axis = 0)\n",
    "cov5 = np.cov(trn2d_pca[:len(train5), :], rowvar=False)\n",
    "\n",
    "\n",
    "#Likelihood of data coming from a 3-D gaussian with given mean and cov\n",
    "def likelihood(data, mean, cov):\n",
    "        a = -0.5 * np.matmul((data - mean), np.linalg.inv(cov))\n",
    "        b = np.matmul(a,(data - mean))\n",
    "        likelihood = (1 / (2 * np.pi)) * (1 / (np.linalg.det(cov) ** (1/2)) * np.exp(b))\n",
    "        return(likelihood)\n",
    "\n",
    "#The posterior probability of data belonging to class '1'\n",
    "#In the case of binary classification we only need to calculate the posterior for one of the two classes.\n",
    "def posterior(data, mean, cov, prior_x = 0.5, prior_y = 0.5):\n",
    "    posterior = (likelihood(data, train_x_mean, train_x_cov) * prior_x) / ((likelihood(data, train_x_mean, train_x_cov) * prior_x) + (likelihood(data, train_y_mean, train_y_cov) * prior_y))\n",
    "    return(posterior)\n"
   ]
  }
 ],
 "metadata": {
  "kernelspec": {
   "display_name": ".venv",
   "language": "python",
   "name": "python3"
  },
  "language_info": {
   "codemirror_mode": {
    "name": "ipython",
    "version": 3
   },
   "file_extension": ".py",
   "mimetype": "text/x-python",
   "name": "python",
   "nbconvert_exporter": "python",
   "pygments_lexer": "ipython3",
   "version": "3.11.5"
  },
  "orig_nbformat": 4
 },
 "nbformat": 4,
 "nbformat_minor": 2
}
