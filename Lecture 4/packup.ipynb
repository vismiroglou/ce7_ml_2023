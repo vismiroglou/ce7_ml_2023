{
 "cells": [
  {
   "cell_type": "code",
   "execution_count": 1,
   "metadata": {},
   "outputs": [],
   "source": [
    "from sklearn.decomposition import PCA\n",
    "from sklearn.discriminant_analysis import LinearDiscriminantAnalysis\n",
    "from scipy.stats import multivariate_normal\n",
    "from matplotlib import pyplot as plt\n",
    "import numpy as np"
   ]
  },
  {
   "cell_type": "markdown",
   "metadata": {},
   "source": [
    "From the 10-class database, choose three classes (5, 6 and 8) and then reduce dimension to 2"
   ]
  },
  {
   "cell_type": "code",
   "execution_count": 2,
   "metadata": {},
   "outputs": [],
   "source": [
    "train5 = np.loadtxt(\"Data/train5.txt\")/255 # /255 for normalization\n",
    "train6 = np.loadtxt(\"Data/train6.txt\")/255\n",
    "train8 = np.loadtxt(\"Data/train8.txt\")/255\n",
    "\n",
    "# Define targets \n",
    "train5_target = 5*np.ones(len(train5))\n",
    "train6_target = 6*np.ones(len(train6))\n",
    "train8_target = 8*np.ones(len(train8))\n",
    "# Combine data\n",
    "train_data = np.concatenate([train5, train6, train8])\n",
    "train_targets = np.concatenate([train5_target, train6_target, train8_target])"
   ]
  },
  {
   "cell_type": "code",
   "execution_count": 23,
   "metadata": {},
   "outputs": [],
   "source": [
    "test5 = np.loadtxt(\"Data/test5.txt\")/255\n",
    "test6 = np.loadtxt(\"Data/test6.txt\")/255\n",
    "test8 = np.loadtxt(\"Data/test8.txt\")/255\n",
    "\n",
    "# Define targets \n",
    "test5_target = 5*np.ones(len(test5))\n",
    "test6_target = 6*np.ones(len(test6))\n",
    "test8_target = 8*np.ones(len(test8))\n",
    "\n",
    "# Combine\n",
    "test_data = np.concatenate([test5, test6, test8])\n",
    "test_targets = np.concatenate([test5_target, test6_target, test8_target])\n",
    "\n",
    "# Class names\n",
    "classes = np.array([5,6,8])"
   ]
  },
  {
   "cell_type": "code",
   "execution_count": 24,
   "metadata": {},
   "outputs": [],
   "source": [
    "pca = PCA(n_components = 2)\n",
    "pca.fit(train_data)\n",
    "trn2d_pca = pca.transform(train_data)"
   ]
  },
  {
   "cell_type": "code",
   "execution_count": 25,
   "metadata": {},
   "outputs": [],
   "source": [
    "lda = LinearDiscriminantAnalysis(n_components = 2)\n",
    "lda.fit(train_data, train_targets)\n",
    "trn2d_lda = lda.transform(train_data)"
   ]
  },
  {
   "cell_type": "code",
   "execution_count": null,
   "metadata": {},
   "outputs": [],
   "source": []
  },
  {
   "cell_type": "markdown",
   "metadata": {},
   "source": [
    "Perform 3-class classification based on the generated 2-dimensional data"
   ]
  },
  {
   "cell_type": "code",
   "execution_count": 35,
   "metadata": {},
   "outputs": [
    {
     "ename": "ValueError",
     "evalue": "Array 'mean' must be a vector of length 4.",
     "output_type": "error",
     "traceback": [
      "\u001b[1;31m---------------------------------------------------------------------------\u001b[0m",
      "\u001b[1;31mValueError\u001b[0m                                Traceback (most recent call last)",
      "\u001b[1;32mc:\\Users\\vismi\\Documents\\University\\ce7_ml_2023\\Lecture 4\\pca.ipynb Cell 12\u001b[0m line \u001b[0;36m1\n\u001b[0;32m      <a href='vscode-notebook-cell:/c%3A/Users/vismi/Documents/University/ce7_ml_2023/Lecture%204/pca.ipynb#X10sZmlsZQ%3D%3D?line=8'>9</a>\u001b[0m cov8_pca \u001b[39m=\u001b[39m np\u001b[39m.\u001b[39mcov(trn8_pca, rowvar\u001b[39m=\u001b[39m\u001b[39mFalse\u001b[39;00m)\n\u001b[0;32m     <a href='vscode-notebook-cell:/c%3A/Users/vismi/Documents/University/ce7_ml_2023/Lecture%204/pca.ipynb#X10sZmlsZQ%3D%3D?line=10'>11</a>\u001b[0m \u001b[39m#Get the likelihood\u001b[39;00m\n\u001b[1;32m---> <a href='vscode-notebook-cell:/c%3A/Users/vismi/Documents/University/ce7_ml_2023/Lecture%204/pca.ipynb#X10sZmlsZQ%3D%3D?line=11'>12</a>\u001b[0m biv_norm_5_pca \u001b[39m=\u001b[39m multivariate_normal\u001b[39m.\u001b[39;49mpdf(mean5_pca, cov5_pca)\n\u001b[0;32m     <a href='vscode-notebook-cell:/c%3A/Users/vismi/Documents/University/ce7_ml_2023/Lecture%204/pca.ipynb#X10sZmlsZQ%3D%3D?line=12'>13</a>\u001b[0m biv_norm_6_pca \u001b[39m=\u001b[39m multivariate_normal\u001b[39m.\u001b[39mpdf(mean6_pca, cov6_pca)\n\u001b[0;32m     <a href='vscode-notebook-cell:/c%3A/Users/vismi/Documents/University/ce7_ml_2023/Lecture%204/pca.ipynb#X10sZmlsZQ%3D%3D?line=13'>14</a>\u001b[0m biv_norm_8_pca \u001b[39m=\u001b[39m multivariate_normal\u001b[39m.\u001b[39mpdf(mean8_pca, cov8_pca)\n",
      "File \u001b[1;32mc:\\Users\\vismi\\Documents\\University\\ce7_ml_2023\\.venv\\Lib\\site-packages\\scipy\\stats\\_multivariate.py:585\u001b[0m, in \u001b[0;36mmultivariate_normal_gen.pdf\u001b[1;34m(self, x, mean, cov, allow_singular)\u001b[0m\n\u001b[0;32m    566\u001b[0m \u001b[39mdef\u001b[39;00m \u001b[39mpdf\u001b[39m(\u001b[39mself\u001b[39m, x, mean\u001b[39m=\u001b[39m\u001b[39mNone\u001b[39;00m, cov\u001b[39m=\u001b[39m\u001b[39m1\u001b[39m, allow_singular\u001b[39m=\u001b[39m\u001b[39mFalse\u001b[39;00m):\n\u001b[0;32m    567\u001b[0m \u001b[39m    \u001b[39m\u001b[39m\"\"\"Multivariate normal probability density function.\u001b[39;00m\n\u001b[0;32m    568\u001b[0m \n\u001b[0;32m    569\u001b[0m \u001b[39m    Parameters\u001b[39;00m\n\u001b[1;32m   (...)\u001b[0m\n\u001b[0;32m    583\u001b[0m \n\u001b[0;32m    584\u001b[0m \u001b[39m    \"\"\"\u001b[39;00m\n\u001b[1;32m--> 585\u001b[0m     params \u001b[39m=\u001b[39m \u001b[39mself\u001b[39;49m\u001b[39m.\u001b[39;49m_process_parameters(mean, cov, allow_singular)\n\u001b[0;32m    586\u001b[0m     dim, mean, cov_object \u001b[39m=\u001b[39m params\n\u001b[0;32m    587\u001b[0m     x \u001b[39m=\u001b[39m \u001b[39mself\u001b[39m\u001b[39m.\u001b[39m_process_quantiles(x, dim)\n",
      "File \u001b[1;32mc:\\Users\\vismi\\Documents\\University\\ce7_ml_2023\\.venv\\Lib\\site-packages\\scipy\\stats\\_multivariate.py:415\u001b[0m, in \u001b[0;36mmultivariate_normal_gen._process_parameters\u001b[1;34m(self, mean, cov, allow_singular)\u001b[0m\n\u001b[0;32m    408\u001b[0m     \u001b[39mreturn\u001b[39;00m \u001b[39mself\u001b[39m\u001b[39m.\u001b[39m_process_parameters_Covariance(mean, cov)\n\u001b[0;32m    409\u001b[0m \u001b[39melse\u001b[39;00m:\n\u001b[0;32m    410\u001b[0m     \u001b[39m# Before `Covariance` classes were introduced,\u001b[39;00m\n\u001b[0;32m    411\u001b[0m     \u001b[39m# `multivariate_normal` accepted plain arrays as `cov` and used the\u001b[39;00m\n\u001b[0;32m    412\u001b[0m     \u001b[39m# following input validation. To avoid disturbing the behavior of\u001b[39;00m\n\u001b[0;32m    413\u001b[0m     \u001b[39m# `multivariate_normal` when plain arrays are used, we use the\u001b[39;00m\n\u001b[0;32m    414\u001b[0m     \u001b[39m# original input validation here.\u001b[39;00m\n\u001b[1;32m--> 415\u001b[0m     dim, mean, cov \u001b[39m=\u001b[39m \u001b[39mself\u001b[39;49m\u001b[39m.\u001b[39;49m_process_parameters_psd(\u001b[39mNone\u001b[39;49;00m, mean, cov)\n\u001b[0;32m    416\u001b[0m     \u001b[39m# After input validation, some methods then processed the arrays\u001b[39;00m\n\u001b[0;32m    417\u001b[0m     \u001b[39m# with a `_PSD` object and used that to perform computation.\u001b[39;00m\n\u001b[0;32m    418\u001b[0m     \u001b[39m# To avoid branching statements in each method depending on whether\u001b[39;00m\n\u001b[0;32m    419\u001b[0m     \u001b[39m# `cov` is an array or `Covariance` object, we always process the\u001b[39;00m\n\u001b[0;32m    420\u001b[0m     \u001b[39m# array with `_PSD`, and then use wrapper that satisfies the\u001b[39;00m\n\u001b[0;32m    421\u001b[0m     \u001b[39m# `Covariance` interface, `CovViaPSD`.\u001b[39;00m\n\u001b[0;32m    422\u001b[0m     psd \u001b[39m=\u001b[39m _PSD(cov, allow_singular\u001b[39m=\u001b[39mallow_singular)\n",
      "File \u001b[1;32mc:\\Users\\vismi\\Documents\\University\\ce7_ml_2023\\.venv\\Lib\\site-packages\\scipy\\stats\\_multivariate.py:472\u001b[0m, in \u001b[0;36mmultivariate_normal_gen._process_parameters_psd\u001b[1;34m(self, dim, mean, cov)\u001b[0m\n\u001b[0;32m    469\u001b[0m     cov \u001b[39m=\u001b[39m cov\u001b[39m.\u001b[39mreshape(\u001b[39m1\u001b[39m, \u001b[39m1\u001b[39m)\n\u001b[0;32m    471\u001b[0m \u001b[39mif\u001b[39;00m mean\u001b[39m.\u001b[39mndim \u001b[39m!=\u001b[39m \u001b[39m1\u001b[39m \u001b[39mor\u001b[39;00m mean\u001b[39m.\u001b[39mshape[\u001b[39m0\u001b[39m] \u001b[39m!=\u001b[39m dim:\n\u001b[1;32m--> 472\u001b[0m     \u001b[39mraise\u001b[39;00m \u001b[39mValueError\u001b[39;00m(\u001b[39m\"\u001b[39m\u001b[39mArray \u001b[39m\u001b[39m'\u001b[39m\u001b[39mmean\u001b[39m\u001b[39m'\u001b[39m\u001b[39m must be a vector of length \u001b[39m\u001b[39m%d\u001b[39;00m\u001b[39m.\u001b[39m\u001b[39m\"\u001b[39m \u001b[39m%\u001b[39m\n\u001b[0;32m    473\u001b[0m                      dim)\n\u001b[0;32m    474\u001b[0m \u001b[39mif\u001b[39;00m cov\u001b[39m.\u001b[39mndim \u001b[39m==\u001b[39m \u001b[39m0\u001b[39m:\n\u001b[0;32m    475\u001b[0m     cov \u001b[39m=\u001b[39m cov \u001b[39m*\u001b[39m np\u001b[39m.\u001b[39meye(dim)\n",
      "\u001b[1;31mValueError\u001b[0m: Array 'mean' must be a vector of length 4."
     ]
    }
   ],
   "source": [
    "#Find means and covariance matrices for all 3 classes for PCA\n",
    "mean5_pca = np.mean(trn5_pca, axis = 0)\n",
    "cov5_pca = np.cov(trn5_pca, rowvar=False)\n",
    "\n",
    "mean6_pca = np.mean(trn6_pca, axis = 0)\n",
    "cov6_pca = np.cov(trn6_pca, rowvar=False)\n",
    "\n",
    "mean8_pca = np.mean(trn8_pca, axis = 0)\n",
    "cov8_pca = np.cov(trn8_pca, rowvar=False)\n",
    "\n",
    "#Get the likelihood\n",
    "#Get the likelihood\n",
    "biv_norm_5_pca = multivariate_normal(mean5_pca, cov5_pca)\n",
    "biv_norm_6_pca = multivariate_normal(mean6_pca, cov6_pca)\n",
    "biv_norm_8_pca = multivariate_normal(mean8_pca, cov8_pca)\n"
   ]
  }
 ],
 "metadata": {
  "kernelspec": {
   "display_name": ".venv",
   "language": "python",
   "name": "python3"
  },
  "language_info": {
   "codemirror_mode": {
    "name": "ipython",
    "version": 3
   },
   "file_extension": ".py",
   "mimetype": "text/x-python",
   "name": "python",
   "nbconvert_exporter": "python",
   "pygments_lexer": "ipython3",
   "version": "3.11.5"
  },
  "orig_nbformat": 4
 },
 "nbformat": 4,
 "nbformat_minor": 2
}
