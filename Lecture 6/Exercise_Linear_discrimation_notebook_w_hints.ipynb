{
 "cells": [
  {
   "cell_type": "code",
   "execution_count": 1,
   "metadata": {},
   "outputs": [],
   "source": [
    "import numpy as np\n",
    "from scipy.io import loadmat\n",
    "from scipy.stats import multivariate_normal as norm\n",
    "import matplotlib.pyplot as plt\n",
    "from sklearn.decomposition import PCA\n",
    "from sklearn.discriminant_analysis import LinearDiscriminantAnalysis as LDA\n",
    "from sklearn.metrics import confusion_matrix, ConfusionMatrixDisplay"
   ]
  },
  {
   "cell_type": "code",
   "execution_count": 2,
   "metadata": {},
   "outputs": [],
   "source": [
    "def create_complete_datasets(data_dict):\n",
    "    '''\n",
    "    Function for creating complete training and test sets containing\n",
    "    all classes.\n",
    "    '''\n",
    "    #Empty list\n",
    "    trainset = []\n",
    "    traintargets =[]\n",
    "    testset = []\n",
    "    testtargets =[]\n",
    "    \n",
    "    #For each class\n",
    "    for i in range(10):\n",
    "        trainset.append(data_dict[\"train%d\"%i])\n",
    "        traintargets.append(np.full(len(data_dict[\"train%d\"%i]),i))\n",
    "        testset.append(data_dict[\"test%d\"%i])\n",
    "        testtargets.append(np.full(len(data_dict[\"test%d\"%i]),i))\n",
    "    \n",
    "    #Concatenate into to complete datasets\n",
    "    trainset = np.concatenate(trainset)\n",
    "    traintargets = np.concatenate(traintargets)\n",
    "    testset = np.concatenate(testset)\n",
    "    testtargets = np.concatenate(testtargets)\n",
    "    return trainset, traintargets, testset, testtargets\n",
    "\n",
    "file = \"data/mnist_all.mat\"\n",
    "data = loadmat(file)\n",
    "\n",
    "#Complete training and test sets\n",
    "train_set, train_targets, test_set, test_targets = create_complete_datasets(data)"
   ]
  },
  {
   "cell_type": "code",
   "execution_count": 3,
   "metadata": {},
   "outputs": [],
   "source": [
    "n_components = 9\n",
    "\n",
    "#PCA\n",
    "\n",
    "#LDA\n",
    "\n"
   ]
  },
  {
   "cell_type": "code",
   "execution_count": 4,
   "metadata": {},
   "outputs": [],
   "source": [
    "# Analyze proportion of Variance. If num_components=2 try to visualize dim. reduced data.\n"
   ]
  },
  {
   "cell_type": "code",
   "execution_count": 5,
   "metadata": {},
   "outputs": [],
   "source": [
    "# Estimate Gaussians from PCA/LDA"
   ]
  },
  {
   "cell_type": "code",
   "execution_count": 6,
   "metadata": {},
   "outputs": [],
   "source": [
    "#Compute predictions\n",
    "\n",
    "\n",
    "#Compute accuracy\n",
    "\n"
   ]
  },
  {
   "cell_type": "code",
   "execution_count": 7,
   "metadata": {},
   "outputs": [],
   "source": [
    "#Compute the confusion matrices for PCA and LDA\n",
    "\n",
    "#Plot Confusion matrices\n"
   ]
  }
 ],
 "metadata": {
  "kernelspec": {
   "display_name": ".venv",
   "language": "python",
   "name": "python3"
  },
  "language_info": {
   "codemirror_mode": {
    "name": "ipython",
    "version": 3
   },
   "file_extension": ".py",
   "mimetype": "text/x-python",
   "name": "python",
   "nbconvert_exporter": "python",
   "pygments_lexer": "ipython3",
   "version": "3.11.5"
  },
  "orig_nbformat": 4
 },
 "nbformat": 4,
 "nbformat_minor": 2
}
