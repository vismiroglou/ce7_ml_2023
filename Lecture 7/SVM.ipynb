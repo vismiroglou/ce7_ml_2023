{
 "cells": [
  {
   "cell_type": "code",
   "execution_count": null,
   "metadata": {},
   "outputs": [],
   "source": [
    "# ###################################\n",
    "# Group ID : 741\n",
    "# Members : Simon Loi Baks, Vasiliki Ismiroglou\n",
    "# Date : 05/10/2023\n",
    "# Lecture: Lecture 6 Linear discrimination\n",
    "# Dependencies: numpy, scipy.io.loadmat, scipy.stats.multivariate_normal, matplotlib.pyplot, sklearn.decomposition.PCA, sklearn.discriminant_analysis.LinearDiscriminantAnalysis, sklearn.metrics.confusion_matrix, sklearn.metrics.ConfusionMatrixDisplay,\n",
    "# sklearn.linear_model.LOgisticRegression, sklearn.preprocessing.StandardScaler, sklearn.neural_network.MLPClassifier\n",
    "# Python version:3.11.5\n",
    "# Functionality: Reducing dimensionality of data and performing multi-class classification using logistic regression, multilayer perceptron and LDA\n",
    "# ###################################"
   ]
  },
  {
   "cell_type": "code",
   "execution_count": null,
   "metadata": {},
   "outputs": [],
   "source": []
  },
  {
   "cell_type": "code",
   "execution_count": null,
   "metadata": {},
   "outputs": [],
   "source": [
    "def create_complete_datasets(data_dict):\n",
    "    '''\n",
    "    Function for creating complete training and test sets containing\n",
    "    all classes.\n",
    "    '''\n",
    "    #Empty list\n",
    "    trainset = []\n",
    "    traintargets =[]\n",
    "    testset = []\n",
    "    testtargets =[]\n",
    "    \n",
    "    #For each class\n",
    "    for i in range(10):\n",
    "        trainset.append(data_dict[\"train%d\"%i])\n",
    "        traintargets.append(np.full(len(data_dict[\"train%d\"%i]),i))\n",
    "        testset.append(data_dict[\"test%d\"%i])\n",
    "        testtargets.append(np.full(len(data_dict[\"test%d\"%i]),i))\n",
    "    \n",
    "    #Concatenate into to complete datasets\n",
    "    trainset = np.concatenate(trainset)\n",
    "    traintargets = np.concatenate(traintargets)\n",
    "    testset = np.concatenate(testset)\n",
    "    testtargets = np.concatenate(testtargets)\n",
    "    return trainset, traintargets, testset, testtargets\n",
    "\n",
    "file = \"data/mnist_all.mat\"\n",
    "data = loadmat(file)\n",
    "\n",
    "#Complete training and test sets\n",
    "train_set, train_targets, test_set, test_targets = create_complete_datasets(data)"
   ]
  }
 ],
 "metadata": {
  "language_info": {
   "name": "python"
  }
 },
 "nbformat": 4,
 "nbformat_minor": 2
}
