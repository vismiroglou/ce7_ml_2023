{
 "cells": [
  {
   "cell_type": "code",
   "execution_count": 2,
   "metadata": {},
   "outputs": [],
   "source": [
    "from scipy.io import loadmat\n",
    "import numpy as np\n",
    "from scipy.stats import multivariate_normal as norm\n",
    "import matplotlib.pyplot as plt\n",
    "from sklearn.mixture import GaussianMixture as GMM"
   ]
  },
  {
   "cell_type": "code",
   "execution_count": 3,
   "metadata": {},
   "outputs": [],
   "source": [
    "data_path = \"Data/2D568class.mat\"\n",
    "data = loadmat(data_path)\n",
    "train5 = data[\"trn5_2dim\"]/255\n",
    "train6 = data[\"trn6_2dim\"]/255\n",
    "train8 = data[\"trn8_2dim\"]/255\n",
    "\n",
    "trainset = np.concatenate([train5, train6, train8])\n",
    "np.random.seed(0)\n",
    "np.random.shuffle(trainset)"
   ]
  },
  {
   "cell_type": "code",
   "execution_count": 4,
   "metadata": {},
   "outputs": [
    {
     "name": "stdout",
     "output_type": "stream",
     "text": [
      "[[-1.50392803  0.07382428]\n",
      " [-0.47966968  2.54744033]\n",
      " [-1.36584092  2.71526073]\n",
      " ...\n",
      " [-0.05322445  1.88652704]\n",
      " [-0.2156543   2.21910803]\n",
      " [-2.77636742 -0.15215605]]\n"
     ]
    }
   ],
   "source": [
    "print(train5)"
   ]
  }
 ],
 "metadata": {
  "kernelspec": {
   "display_name": ".venv",
   "language": "python",
   "name": "python3"
  },
  "language_info": {
   "codemirror_mode": {
    "name": "ipython",
    "version": 3
   },
   "file_extension": ".py",
   "mimetype": "text/x-python",
   "name": "python",
   "nbconvert_exporter": "python",
   "pygments_lexer": "ipython3",
   "version": "3.11.4"
  },
  "orig_nbformat": 4
 },
 "nbformat": 4,
 "nbformat_minor": 2
}
